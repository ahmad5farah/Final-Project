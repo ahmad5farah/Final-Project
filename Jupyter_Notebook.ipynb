{
  "metadata": {
    "kernelspec": {
      "name": "python",
      "display_name": "Pyolite",
      "language": "python"
    },
    "language_info": {
      "name": ""
    }
  },
  "nbformat_minor": 4,
  "nbformat": 4,
  "cells": [
    {
      "cell_type": "markdown",
      "source": "<center>\n    <img src=\"https://cf-courses-data.s3.us.cloud-object-storage.appdomain.cloud/IBMDeveloperSkillsNetwork-DS0105EN-SkillsNetwork/labs/Module2/images/SN_web_lightmode.png\" width=\"300\" alt=\"cognitiveclass.ai logo\">\n</center>\n",
      "metadata": {}
    },
    {
      "cell_type": "markdown",
      "source": "# My Jupyter Notebook on IBM Watson Studio",
      "metadata": {
        "tags": []
      }
    },
    {
      "cell_type": "markdown",
      "source": "**AHMAD ABUL FARAH**  \nI Would like to be a data analyst.",
      "metadata": {
        "tags": []
      }
    },
    {
      "cell_type": "markdown",
      "source": "*I am interested in data science because this field gives an immense opportunity to come across a large set of data anad analyze it and convert it to readable data.*",
      "metadata": {}
    },
    {
      "cell_type": "markdown",
      "source": "### I'll be adding tow numbers in next cell to find it's sum.",
      "metadata": {}
    },
    {
      "cell_type": "code",
      "source": "17+23",
      "metadata": {
        "trusted": true
      },
      "execution_count": 10,
      "outputs": [
        {
          "execution_count": 10,
          "output_type": "execute_result",
          "data": {
            "text/plain": "40"
          },
          "metadata": {}
        }
      ]
    },
    {
      "cell_type": "markdown",
      "source": "~This is strikethrough text and below are few pointers~  \n* It's necessary to add ~ at start and aend of the sentence to make it a strikethrough text.\n* If you have to add bukkets make sure that you add asterik sign at the start followed by a space and the desired text.  \nWe'll be doing the below two things.  \n1. This is a number bullet.\n2. Below I am attaching an image.  \n[Use this link to access Google](https://www.google.co.in)\n![This is an image of cat sitting on the chair.](https://www.shutterstock.com/image-photo/funny-scottish-fold-cat-sitting-260nw-1073406179.jpg)\n",
      "metadata": {}
    },
    {
      "cell_type": "code",
      "source": "",
      "metadata": {},
      "execution_count": null,
      "outputs": []
    }
  ]
}